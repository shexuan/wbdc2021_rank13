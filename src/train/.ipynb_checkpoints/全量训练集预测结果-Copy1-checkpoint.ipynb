{
 "cells": [
  {
   "cell_type": "code",
   "execution_count": 2,
   "id": "ff73a381",
   "metadata": {},
   "outputs": [],
   "source": [
    "import os, sys, gc, pickle\n",
    "sys.path.append('../')\n",
    "import preprocess\n",
    "from model.moe_best import MOE\n",
    "import numpy as np\n",
    "import pandas as pd\n",
    "import torch\n",
    "from sklearn.preprocessing import LabelEncoder, MinMaxScaler\n",
    "from transformers import AdamW, get_linear_schedule_with_warmup, get_cosine_schedule_with_warmup\n",
    "from tqdm import tqdm\n",
    "from deepctr_torch.inputs import SparseFeat, DenseFeat, get_feature_names\n",
    "\n",
    "import logging\n",
    "logger = logging.getLogger(__name__)"
   ]
  },
  {
   "cell_type": "code",
   "execution_count": 22,
   "id": "5fcc7872",
   "metadata": {},
   "outputs": [
    {
     "name": "stdout",
     "output_type": "stream",
     "text": [
      "../my_data/w2v_models_sg_ns_64_epoch30//userid_by_feedid_w10_iter10.64d.pkl\n",
      "classes numbers:  219999\n",
      "word2vec vocab size:  219999\n",
      "Total Random initialized word embedding counts:  0\n",
      "../my_data/w2v_models_sg_ns_64_epoch30//userid_by_authorid_w10_iter10.64d.pkl\n",
      "classes numbers:  219999\n",
      "word2vec vocab size:  219999\n",
      "Total Random initialized word embedding counts:  0\n",
      "../my_data/w2v_models_sg_ns_64_epoch30//authorid_w7_iter10.64d.filled_cold.pkl\n",
      "classes numbers:  18789\n",
      "word2vec vocab size:  18789\n",
      "Total Random initialized word embedding counts:  0\n",
      "../my_data/w2v_models_sg_ns_64_epoch30//feedid_w7_iter10.64d.filled_cold.pkl\n",
      "classes numbers:  106444\n",
      "word2vec vocab size:  106444\n",
      "Total Random initialized word embedding counts:  0\n",
      "../my_data/official_feed_emb.d512.pkl\n",
      "classes numbers:  106444\n",
      "word2vec vocab size:  106444\n"
     ]
    },
    {
     "name": "stderr",
     "output_type": "stream",
     "text": [
      "08/06/2021 10:46:34 - INFO - __main__ -   All used features:\n",
      "08/06/2021 10:46:34 - INFO - __main__ -   dict_keys(['userid', 'feedid', 'authorid', 'bgm_song_id', 'bgm_singer_id', 'videoplayseconds_bin', 'bgm_na', 'feed_machine_tag_tfidf_cls_32', 'feed_machine_kw_tfidf_cls_17', 'author_machine_tag_tfidf_cls_21', 'author_machine_kw_tfidf_cls_18', 'videoplayseconds', 'tag_manu_machine_corr'])\n"
     ]
    },
    {
     "name": "stdout",
     "output_type": "stream",
     "text": [
      "Total Random initialized word embedding counts:  0\n"
     ]
    }
   ],
   "source": [
    "W2V_SG_EPOCH20 = '../my_data/w2v_models_sg_ns_64_epoch20/'\n",
    "W2V_SG_EPOCH30 = '../my_data/w2v_models_sg_ns_64_epoch30/'\n",
    "W2V_SG_EPOCH40 = '../my_data/w2v_models_sg_ns_64_epoch40/'\n",
    "W2V_SG_256_EPOCH30 = '../my_data/w2v_models_sg_ns_256_epoch30/'\n",
    "W2V_SG_128_EPOCH30 = '../my_data/w2v_models_sg_ns_128_epoch30/'\n",
    "\n",
    "\n",
    "W2V_CBOW_EPOCH20 = '../my_data/w2v_models_cbow_ns_64_epoch20/'\n",
    "W2V_CBOW_EPOCH30 = '../my_data/w2v_models_cbow_ns_64_epoch30/'\n",
    "\n",
    "TOPIC_COLS = ['feed_manu_tag_topic_class', 'feed_machine_tag_topic_class', 'feed_manu_kw_topic_class', \n",
    "              'feed_machine_kw_topic_class', 'feed_description_topic_class', 'author_description_topic_class', \n",
    "              'author_manu_kw_topic_class', 'author_machine_kw_topic_class', 'author_manu_tag_topic_class', \n",
    "              'author_machine_tag_topic_class']\n",
    "\n",
    "pretrained_models = {\n",
    "    'sg_ns_64_epoch30':{\n",
    "        'official_feed': f'../my_data/official_feed_emb.d512.pkl',\n",
    "        'official_feed_pca': f'../my_data/official_feed_emb_pca.d32.pkl',\n",
    "        'feedid': f'{W2V_SG_EPOCH30}/feedid_w7_iter10.64d.filled_cold.pkl',\n",
    "        'authorid': f'{W2V_SG_EPOCH30}/authorid_w7_iter10.64d.filled_cold.pkl',\n",
    "        'userid_by_feed': f'{W2V_SG_EPOCH30}/userid_by_feedid_w10_iter10.64d.pkl',\n",
    "        'userid_by_author': f'{W2V_SG_EPOCH30}/userid_by_authorid_w10_iter10.64d.pkl',\n",
    "    }\n",
    "}\n",
    "\n",
    "USED_FEATURES = ['userid','feedid','authorid','bgm_song_id','bgm_singer_id','videoplayseconds_bin','bgm_na',\n",
    "                 'videoplayseconds','tag_manu_machine_corr']+\\\n",
    "                ['feed_machine_tag_tfidf_cls_32','feed_machine_kw_tfidf_cls_17',\n",
    "                 'author_machine_tag_tfidf_cls_21','author_machine_kw_tfidf_cls_18']\n",
    "\n",
    "DATA_PATH = '../my_data/data_base/'\n",
    "\n",
    "args = {}\n",
    "args['USED_FEATURES'] = USED_FEATURES\n",
    "args['DATA_PATH'] = DATA_PATH\n",
    "\n",
    "global hidden_units\n",
    "hidden_units = (512,256,128)\n",
    "args['hidden_units'] = hidden_units\n",
    "args['batch_size'] = 40000\n",
    "args['emb_dim'] = 128\n",
    "args['learning_rate'] = 0.05\n",
    "args['lr_scheduler'] = True\n",
    "args['epochs'] = 2\n",
    "args['scheduler_epochs'] = 3\n",
    "args['num_warm_epochs'] = 0\n",
    "args['scheduler_method'] = 'cos'\n",
    "args['use_bn'] = True\n",
    "args['reduction'] = 'sum'\n",
    "args['optimizer'] = 'adagrad'\n",
    "args['num_tasks'] = 7\n",
    "args['early_stop_uauc'] = 0.689\n",
    "args['num_workers'] = 7\n",
    "args['task_dict'] = {\n",
    "        0: 'read_comment',\n",
    "        1: 'like',\n",
    "        2: 'click_avatar',\n",
    "        3: 'forward',\n",
    "        4: 'favorite',\n",
    "        5: 'comment',\n",
    "        6: 'follow'\n",
    "}\n",
    "args['task_weight'] = {\n",
    "        0: 1,\n",
    "        1: 1,\n",
    "        2: 1,\n",
    "        3: 1,\n",
    "        4: 1,\n",
    "        5: 1,\n",
    "        6: 1\n",
    "}\n",
    "args['opt_iters'] = [10, 10]\n",
    "args['pbounds'] = {'dropout': (0.0, 0.9),\n",
    "                   #'learning_rate': 0.001,\n",
    "                   'l2_reg_dnn': (0.0001,0.0001),\n",
    "                   'l2_reg_embedding': (0.1, 0.1),\n",
    "                   'l2_reg_linear': (0.1, 0.1)\n",
    "                  }\n",
    "\n",
    "args['pretrained_model'] = pretrained_models['sg_ns_64_epoch30']\n",
    "\n",
    "\n",
    "# 全部特征\n",
    "linear_feature_columns = pickle.load(open(DATA_PATH+'/linear_feature.pkl','rb'))\n",
    "dnn_feature_columns = pickle.load(open(DATA_PATH+'/dnn_feature.pkl','rb'))\n",
    "#print('raw:')\n",
    "#print(dnn_feature_columns)\n",
    "# 使用其中部分特征\n",
    "linear_feature_columns = [f for f in linear_feature_columns if f.name in USED_FEATURES]\n",
    "dnn_feature_columns = [f for f in dnn_feature_columns if f.name in USED_FEATURES]\n",
    "features = []\n",
    "for f in linear_feature_columns:\n",
    "    if isinstance(f, SparseFeat):\n",
    "        features.append(SparseFeat(f.name, f.vocabulary_size, args['emb_dim']))\n",
    "    else:\n",
    "        features.append(f)\n",
    "linear_feature_columns = features\n",
    "dnn_feature_columns = features\n",
    "\n",
    "lbe_dict = preprocess.LBE_MODEL\n",
    "\n",
    "pri_train_X = pickle.load(open(DATA_PATH+'/pri_train_x.pkl','rb'))\n",
    "pri_train_y = pickle.load(open(DATA_PATH+'/pri_train_y.pkl','rb'))\n",
    "pri_val_X = pickle.load(open(DATA_PATH+'/pri_val_x.pkl','rb'))\n",
    "pri_val_y = pickle.load(open(DATA_PATH+'/pri_val_y.pkl','rb'))\n",
    "\n",
    "semi_train_X = pickle.load(open(DATA_PATH+'/semi_train_x.pkl','rb'))\n",
    "semi_train_y = pickle.load(open(DATA_PATH+'/semi_train_y.pkl','rb'))\n",
    "semi_val_X = pickle.load(open(DATA_PATH+'/semi_val_x.pkl','rb'))\n",
    "semi_val_y = pickle.load(open(DATA_PATH+'/semi_val_y.pkl','rb'))\n",
    "\n",
    "# 从数据集中选取部分特征\n",
    "semi_train_X = {f.name:semi_train_X[f.name] for f in dnn_feature_columns}\n",
    "semi_val_X = {f.name:semi_val_X[f.name] for f in dnn_feature_columns}\n",
    "pri_train_X = {f.name:pri_train_X[f.name] for f in dnn_feature_columns}\n",
    "pri_val_X = {f.name:pri_val_X[f.name] for f in dnn_feature_columns}\n",
    "\n",
    "for col in semi_train_X:\n",
    "    semi_train_X[col] = np.concatenate((semi_train_X[col], pri_train_X[col]), axis=0)\n",
    "semi_train_y = np.concatenate((semi_train_y, pri_train_y), axis=0)\n",
    "\n",
    "lbe_dict = preprocess.LBE_MODEL\n",
    "# 载入预训练Embedding weight matrix\n",
    "user_emb_weight = preprocess.load_feature_pretrained_embedding(lbe_dict['userid'], \n",
    "                                                    args['pretrained_model']['userid_by_feed'], padding=True)\n",
    "user_by_author_emb_weight = preprocess.load_feature_pretrained_embedding(lbe_dict['userid'], \n",
    "                                                    args['pretrained_model']['userid_by_author'], padding=True)\n",
    "\n",
    "author_emb_weight = preprocess.load_feature_pretrained_embedding(lbe_dict['authorid'], \n",
    "                                                    args['pretrained_model']['authorid'], padding=True)\n",
    "feed_emb_weight = preprocess.load_feature_pretrained_embedding(lbe_dict['feedid'], \n",
    "                                                    args['pretrained_model']['feedid'], padding=True)\n",
    "official_feed_weight = preprocess.load_feature_pretrained_embedding(lbe_dict['feedid'], \n",
    "                                                    args['pretrained_model']['official_feed'], padding=True)\n",
    "\n",
    "logger.info('All used features:')\n",
    "logger.info(semi_train_X.keys())\n",
    "\n",
    "from bayes_opt import BayesianOptimization\n",
    "\n",
    "device = 'gpu'\n",
    "if device=='gpu' and torch.cuda.is_available():\n",
    "    # print('cuda ready...')\n",
    "    device = 'cuda:1'\n",
    "else:\n",
    "    device = 'cpu'"
   ]
  },
  {
   "cell_type": "code",
   "execution_count": 23,
   "id": "1a010fc1",
   "metadata": {},
   "outputs": [
    {
     "data": {
      "text/plain": [
       "dict_keys(['userid', 'feedid', 'authorid', 'bgm_song_id', 'bgm_singer_id', 'videoplayseconds_bin', 'bgm_na', 'feed_machine_tag_tfidf_cls_32', 'feed_machine_kw_tfidf_cls_17', 'author_machine_tag_tfidf_cls_21', 'author_machine_kw_tfidf_cls_18', 'videoplayseconds', 'tag_manu_machine_corr'])"
      ]
     },
     "execution_count": 23,
     "metadata": {},
     "output_type": "execute_result"
    }
   ],
   "source": [
    "device = 'gpu'\n",
    "if device=='gpu' and torch.cuda.is_available():\n",
    "    # print('cuda ready...')\n",
    "    device = 'cuda:0'\n",
    "else:\n",
    "    device = 'cpu'\n",
    "    \n",
    "_moe = MOE(dnn_hidden_units=args['hidden_units'], linear_feature_columns=linear_feature_columns,\n",
    "          dnn_feature_columns=dnn_feature_columns, task='binary', dnn_dropout=0.,\n",
    "          l2_reg_embedding=0., l2_reg_dnn=0.,\n",
    "          l2_reg_linear=0., device=device, seed=1233, num_tasks=args['num_tasks'],\n",
    "          pretrained_user_emb_weight=None,\n",
    "          pretrained_author_emb_weight=None,\n",
    "          pretrained_feed_emb_weight=None,\n",
    "          )\n",
    "\n",
    "train_loader = preprocess.get_dataloader(semi_train_X, _moe, y=semi_train_y, batch_size=args['batch_size'],  \n",
    "                   num_workers=10)\n",
    "\n",
    "val_loader = preprocess.get_dataloader(semi_val_X, _moe, y=None, batch_size=args['batch_size'],  \n",
    "                   num_workers=10)\n",
    "\n",
    "val_userid_lst = semi_val_X['userid'].tolist()\n",
    "\n",
    "semi_train_X.keys()"
   ]
  },
  {
   "cell_type": "code",
   "execution_count": 4,
   "id": "bc55282e",
   "metadata": {},
   "outputs": [],
   "source": [
    "# params = {'target': 0.6984976583814221, 'params': \n",
    "# params = {'dropout': 0.08746740041525639,\n",
    "#           'l2_reg_dnn': 0.0001,\n",
    "#           'l2_reg_embedding': 0.05032424704698356,\n",
    "#           'l2_reg_linear': 0.06932797233659868}\n",
    "\n",
    "# 0.7      |  0.04211  |  0.000423 |  0.06703  |  0.1486\n",
    "# params = {'dropout': 0.04211,\n",
    "#           'l2_reg_dnn': 0.000423,\n",
    "#           'l2_reg_embedding': 0.06703, \n",
    "#           'l2_reg_linear': 0.1486}\n",
    "\n",
    "# 仅复赛数据   线上 0.7034，当前最高单模 \n",
    "#'target': 0.7000, \n",
    "# params =  {'dropout': 0.0, 'l2_reg_dnn': 0.001, 'l2_reg_embedding': 0.01}\n",
    "\n",
    "# {'target': 0.7004002335577505, \n",
    "# params =  {'dropout': 0.17558056117521, \n",
    "#            'l2_reg_dnn': 0.005633952996133892, \n",
    "#            'l2_reg_embedding': 0.04118177940293963} \n",
    "\n",
    "# {'target': 0.7002279538742341,  线上 0.7037，当前最高单模\n",
    "# params = {'dropout': 0.14805485127280196, 'l2_reg_dnn': 0.002407998073724848,\n",
    "#            'l2_reg_embedding': 0.06031862370010756}\n",
    "\n",
    "params =  {'dropout': 0.0, 'l2_reg_dnn': 0.001, 'l2_reg_embedding': 0.01}\n"
   ]
  },
  {
   "cell_type": "code",
   "execution_count": 28,
   "id": "77265014",
   "metadata": {},
   "outputs": [
    {
     "name": "stdout",
     "output_type": "stream",
     "text": [
      "drouput:  0.0\n"
     ]
    },
    {
     "name": "stderr",
     "output_type": "stream",
     "text": [
      "08/06/2021 14:51:45 - INFO - model.moe_best -   Train on 72480000 samples, validate on 6103955 samples, 1812 steps per epoch\n",
      "1812it [24:33,  1.23it/s]\n",
      "08/06/2021 15:18:58 - INFO - model.moe_best -   Epoch 1/2 1632s - loss:  0.2702 - read_comment_loss:  0.0899 - like_loss:  0.0901 - click_avatar_loss:  0.0357 - forward_loss:  0.0200 - favorite_loss:  0.0070 - comment_loss:  0.0037 - follow_loss:  0.0055 - val_read_comment_binary_crossentropy:  0.0896 - val_like_binary_crossentropy:  0.0890 - val_click_avatar_binary_crossentropy:  0.0353 - val_forward_binary_crossentropy:  0.0183 - val_favorite_binary_crossentropy:  0.0064 - val_comment_binary_crossentropy:  0.0028 - val_follow_binary_crossentropy:  0.0049 - val_read_comment_auc:  0.9352 - val_like_auc:  0.8615 - val_click_avatar_auc:  0.8786 - val_forward_auc:  0.9002 - val_favorite_auc:  0.9425 - val_comment_auc:  0.8989 - val_follow_auc:  0.9043 - val_read_comment_uauc:  0.6677 - val_like_uauc:  0.6665 - val_click_avatar_uauc:  0.7561 - val_forward_uauc:  0.7441 - val_favorite_uauc:  0.7706 - val_comment_uauc:  0.6375 - val_follow_uauc:  0.7478 - val_UAUC:  0.69863\n",
      "1812it [26:19,  1.15it/s]\n",
      "08/06/2021 15:47:56 - INFO - model.moe_best -   Epoch 2/2 1738s - loss:  0.2460 - read_comment_loss:  0.0845 - like_loss:  0.0855 - click_avatar_loss:  0.0325 - forward_loss:  0.0177 - favorite_loss:  0.0054 - comment_loss:  0.0026 - follow_loss:  0.0043 - val_read_comment_binary_crossentropy:  0.0885 - val_like_binary_crossentropy:  0.0882 - val_click_avatar_binary_crossentropy:  0.0350 - val_forward_binary_crossentropy:  0.0181 - val_favorite_binary_crossentropy:  0.0063 - val_comment_binary_crossentropy:  0.0027 - val_follow_binary_crossentropy:  0.0048 - val_read_comment_auc:  0.9387 - val_like_auc:  0.8646 - val_click_avatar_auc:  0.8837 - val_forward_auc:  0.9069 - val_favorite_auc:  0.9446 - val_comment_auc:  0.9137 - val_follow_auc:  0.9125 - val_read_comment_uauc:  0.6759 - val_like_uauc:  0.6695 - val_click_avatar_uauc:  0.7619 - val_forward_uauc:  0.7522 - val_favorite_uauc:  0.7755 - val_comment_uauc:  0.6530 - val_follow_uauc:  0.7599 - val_UAUC:  0.70591\n"
     ]
    }
   ],
   "source": [
    "# 全量\n",
    "\n",
    "params =  {'dropout': 0.0, 'l2_reg_dnn': 0.001, 'l2_reg_embedding': 0.01}\n",
    "print('drouput: ', params['dropout'])\n",
    "\n",
    "np.random.seed(2345)\n",
    "import random\n",
    "random.seed(2345)\n",
    "# args['hidden_units']\n",
    "moe = MOE(dnn_hidden_units=(784,512,128), linear_feature_columns=linear_feature_columns,\n",
    "          dnn_feature_columns=dnn_feature_columns, task='binary', dnn_dropout=params['dropout'],\n",
    "          l2_reg_embedding=params['l2_reg_embedding'], l2_reg_dnn=params['l2_reg_dnn'],\n",
    "          device=device, seed=1233, num_tasks=args['num_tasks'],\n",
    "          pretrained_user_emb_weight=[user_emb_weight],\n",
    "          pretrained_author_emb_weight=[author_emb_weight],\n",
    "          pretrained_feed_emb_weight=[feed_emb_weight, official_feed_weight],\n",
    "          )\n",
    "\n",
    "moe.compile(optimizer=args['optimizer'], learning_rate=0.065, loss=\"binary_crossentropy\", \n",
    "              metrics=[\"binary_crossentropy\",'auc','uauc']) #args['learning_rate']\n",
    "\n",
    "metric = moe.fit(train_loader, validation_data=[val_loader, semi_val_y],\n",
    "                   epochs=2, val_userid_list=val_userid_lst,\n",
    "                   lr_scheduler=args['lr_scheduler'], scheduler_epochs=args['scheduler_epochs'],\n",
    "                   scheduler_method=args['scheduler_method'], num_warm_epochs=args['num_warm_epochs'],\n",
    "                   reduction=args['reduction'],\n",
    "                   task_dict=args['task_dict'], task_weight=args['task_weight'],verbose=1,\n",
    "                   early_stop_uauc=0.55)"
   ]
  },
  {
   "cell_type": "code",
   "execution_count": 27,
   "id": "da5fc0a0",
   "metadata": {},
   "outputs": [
    {
     "name": "stdout",
     "output_type": "stream",
     "text": [
      "drouput:  0.0\n"
     ]
    },
    {
     "name": "stderr",
     "output_type": "stream",
     "text": [
      "08/06/2021 13:49:49 - INFO - model.moe_best -   Train on 72480000 samples, validate on 6103955 samples, 1812 steps per epoch\n",
      "1812it [24:33,  1.23it/s]\n",
      "08/06/2021 14:17:02 - INFO - model.moe_best -   Epoch 1/2 1633s - loss:  0.2694 - read_comment_loss:  0.0896 - like_loss:  0.0899 - click_avatar_loss:  0.0356 - forward_loss:  0.0200 - favorite_loss:  0.0070 - comment_loss:  0.0037 - follow_loss:  0.0055 - val_read_comment_binary_crossentropy:  0.0895 - val_like_binary_crossentropy:  0.0889 - val_click_avatar_binary_crossentropy:  0.0353 - val_forward_binary_crossentropy:  0.0183 - val_favorite_binary_crossentropy:  0.0064 - val_comment_binary_crossentropy:  0.0028 - val_follow_binary_crossentropy:  0.0049 - val_read_comment_auc:  0.9356 - val_like_auc:  0.8617 - val_click_avatar_auc:  0.8788 - val_forward_auc:  0.9007 - val_favorite_auc:  0.9433 - val_comment_auc:  0.9039 - val_follow_auc:  0.9045 - val_read_comment_uauc:  0.6689 - val_like_uauc:  0.6675 - val_click_avatar_uauc:  0.7566 - val_forward_uauc:  0.7442 - val_favorite_uauc:  0.7714 - val_comment_uauc:  0.6524 - val_follow_uauc:  0.7474 - val_UAUC:  0.70051\n",
      "1812it [26:18,  1.15it/s]\n",
      "08/06/2021 14:46:00 - INFO - model.moe_best -   Epoch 2/2 1738s - loss:  0.2455 - read_comment_loss:  0.0843 - like_loss:  0.0854 - click_avatar_loss:  0.0324 - forward_loss:  0.0176 - favorite_loss:  0.0054 - comment_loss:  0.0026 - follow_loss:  0.0042 - val_read_comment_binary_crossentropy:  0.0887 - val_like_binary_crossentropy:  0.0880 - val_click_avatar_binary_crossentropy:  0.0350 - val_forward_binary_crossentropy:  0.0181 - val_favorite_binary_crossentropy:  0.0063 - val_comment_binary_crossentropy:  0.0027 - val_follow_binary_crossentropy:  0.0048 - val_read_comment_auc:  0.9384 - val_like_auc:  0.8653 - val_click_avatar_auc:  0.8835 - val_forward_auc:  0.9065 - val_favorite_auc:  0.9460 - val_comment_auc:  0.9117 - val_follow_auc:  0.9126 - val_read_comment_uauc:  0.6760 - val_like_uauc:  0.6710 - val_click_avatar_uauc:  0.7624 - val_forward_uauc:  0.7528 - val_favorite_uauc:  0.7756 - val_comment_uauc:  0.6582 - val_follow_uauc:  0.7585 - val_UAUC:  0.70670\n"
     ]
    }
   ],
   "source": [
    "# 全量\n",
    "\n",
    "params =  {'dropout': 0.0, 'l2_reg_dnn': 0.001, 'l2_reg_embedding': 0.01}\n",
    "\n",
    "print('drouput: ', params['dropout'])\n",
    "\n",
    "np.random.seed(2345)\n",
    "import random\n",
    "random.seed(2345)\n",
    "# args['hidden_units']\n",
    "moe = MOE(dnn_hidden_units=(784,512,128), linear_feature_columns=linear_feature_columns,\n",
    "          dnn_feature_columns=dnn_feature_columns, task='binary', dnn_dropout=params['dropout'],\n",
    "          l2_reg_embedding=params['l2_reg_embedding'], l2_reg_dnn=params['l2_reg_dnn'],\n",
    "          device=device, seed=1233, num_tasks=args['num_tasks'],\n",
    "          pretrained_user_emb_weight=[user_emb_weight],\n",
    "          pretrained_author_emb_weight=[author_emb_weight],\n",
    "          pretrained_feed_emb_weight=[feed_emb_weight, official_feed_weight],\n",
    "          )\n",
    "\n",
    "moe.compile(optimizer=args['optimizer'], learning_rate=0.06, loss=\"binary_crossentropy\", \n",
    "              metrics=[\"binary_crossentropy\",'auc','uauc']) #args['learning_rate']\n",
    "\n",
    "metric = moe.fit(train_loader, validation_data=[val_loader, semi_val_y],\n",
    "                   epochs=2, val_userid_list=val_userid_lst,\n",
    "                   lr_scheduler=args['lr_scheduler'], scheduler_epochs=args['scheduler_epochs'],\n",
    "                   scheduler_method=args['scheduler_method'], num_warm_epochs=args['num_warm_epochs'],\n",
    "                   reduction=args['reduction'],\n",
    "                   task_dict=args['task_dict'], task_weight=args['task_weight'],verbose=1,\n",
    "                   early_stop_uauc=0.55)"
   ]
  },
  {
   "cell_type": "code",
   "execution_count": null,
   "id": "ac4ad682",
   "metadata": {},
   "outputs": [
    {
     "name": "stdout",
     "output_type": "stream",
     "text": [
      "drouput:  0.0\n"
     ]
    },
    {
     "name": "stderr",
     "output_type": "stream",
     "text": [
      "08/06/2021 17:41:07 - INFO - model.moe_best -   Train on 72480000 samples, validate on 6103955 samples, 1812 steps per epoch\n",
      "1812it [24:31,  1.23it/s]\n",
      "08/06/2021 18:08:13 - INFO - model.moe_best -   Epoch 1/2 1625s - loss:  0.2687 - read_comment_loss:  0.0895 - like_loss:  0.0898 - click_avatar_loss:  0.0356 - forward_loss:  0.0200 - favorite_loss:  0.0070 - comment_loss:  0.0037 - follow_loss:  0.0055 - val_read_comment_binary_crossentropy:  0.0895 - val_like_binary_crossentropy:  0.0888 - val_click_avatar_binary_crossentropy:  0.0352 - val_forward_binary_crossentropy:  0.0183 - val_favorite_binary_crossentropy:  0.0064 - val_comment_binary_crossentropy:  0.0028 - val_follow_binary_crossentropy:  0.0049 - val_read_comment_auc:  0.9358 - val_like_auc:  0.8621 - val_click_avatar_auc:  0.8796 - val_forward_auc:  0.9013 - val_favorite_auc:  0.9437 - val_comment_auc:  0.9047 - val_follow_auc:  0.9052 - val_read_comment_uauc:  0.6691 - val_like_uauc:  0.6673 - val_click_avatar_uauc:  0.7569 - val_forward_uauc:  0.7450 - val_favorite_uauc:  0.7721 - val_comment_uauc:  0.6500 - val_follow_uauc:  0.7470 - val_UAUC:  0.70050\n",
      "1169it [16:57,  1.15it/s]"
     ]
    }
   ],
   "source": [
    "# 全量\n",
    "\n",
    "params =  {'dropout': 0.0, 'l2_reg_dnn': 0.001, 'l2_reg_embedding': 0.01}\n",
    "\n",
    "print('drouput: ', params['dropout'])\n",
    "\n",
    "np.random.seed(2345)\n",
    "import random\n",
    "random.seed(2345)\n",
    "# args['hidden_units']\n",
    "moe = MOE(dnn_hidden_units=(784,512,128), linear_feature_columns=linear_feature_columns,\n",
    "          dnn_feature_columns=dnn_feature_columns, task='binary', dnn_dropout=params['dropout'],\n",
    "          l2_reg_embedding=params['l2_reg_embedding'], l2_reg_dnn=params['l2_reg_dnn'],\n",
    "          device=device, seed=1233, num_tasks=args['num_tasks'],\n",
    "          pretrained_user_emb_weight=[user_emb_weight],\n",
    "          pretrained_author_emb_weight=[author_emb_weight],\n",
    "          pretrained_feed_emb_weight=[feed_emb_weight, official_feed_weight],\n",
    "          )\n",
    "\n",
    "moe.compile(optimizer=args['optimizer'], learning_rate=0.06, loss=\"binary_crossentropy\", \n",
    "              metrics=[\"binary_crossentropy\",'auc','uauc']) #args['learning_rate']\n",
    "\n",
    "metric = moe.fit(train_loader, validation_data=[val_loader, semi_val_y],\n",
    "                   epochs=2, val_userid_list=val_userid_lst,\n",
    "                   lr_scheduler=args['lr_scheduler'], scheduler_epochs=args['scheduler_epochs'],\n",
    "                   scheduler_method='linear', # args['scheduler_method'], \n",
    "                   num_warm_epochs=args['num_warm_epochs'],\n",
    "                   reduction=args['reduction'],\n",
    "                   task_dict=args['task_dict'], task_weight=args['task_weight'],verbose=1,\n",
    "                   early_stop_uauc=0.55)"
   ]
  },
  {
   "cell_type": "code",
   "execution_count": 5,
   "id": "83c7781a",
   "metadata": {},
   "outputs": [
    {
     "name": "stdout",
     "output_type": "stream",
     "text": [
      "drouput:  0.0\n"
     ]
    },
    {
     "name": "stderr",
     "output_type": "stream",
     "text": [
      "08/05/2021 19:18:11 - INFO - model.moe_best -   Train on 65880000 samples, validate on 6103955 samples, 1647 steps per epoch\n",
      "97it [01:20,  1.24it/s]"
     ]
    },
    {
     "name": "stdout",
     "output_type": "stream",
     "text": [
      "Please check the latest version manually on https://pypi.org/project/deepctr-torch/#history\n"
     ]
    },
    {
     "name": "stderr",
     "output_type": "stream",
     "text": [
      "1647it [22:16,  1.23it/s]\n",
      "08/05/2021 19:43:00 - INFO - model.moe_best -   Epoch 1/2 1488s - loss:  0.2747 - read_comment_loss:  0.0905 - like_loss:  0.0906 - click_avatar_loss:  0.0362 - forward_loss:  0.0200 - favorite_loss:  0.0070 - comment_loss:  0.0037 - follow_loss:  0.0055 - val_read_comment_binary_crossentropy:  0.0900 - val_like_binary_crossentropy:  0.0891 - val_click_avatar_binary_crossentropy:  0.0356 - val_forward_binary_crossentropy:  0.0184 - val_favorite_binary_crossentropy:  0.0064 - val_comment_binary_crossentropy:  0.0028 - val_follow_binary_crossentropy:  0.0049 - val_read_comment_auc:  0.9347 - val_like_auc:  0.8605 - val_click_avatar_auc:  0.8763 - val_forward_auc:  0.8978 - val_favorite_auc:  0.9455 - val_comment_auc:  0.8977 - val_follow_auc:  0.9028 - val_read_comment_uauc:  0.6674 - val_like_uauc:  0.6644 - val_click_avatar_uauc:  0.7546 - val_forward_uauc:  0.7450 - val_favorite_uauc:  0.7678 - val_comment_uauc:  0.6407 - val_follow_uauc:  0.7508 - val_UAUC:  0.69817\n",
      "1647it [23:54,  1.15it/s]\n",
      "08/05/2021 20:09:26 - INFO - model.moe_best -   Epoch 2/2 1586s - loss:  0.2471 - read_comment_loss:  0.0845 - like_loss:  0.0854 - click_avatar_loss:  0.0327 - forward_loss:  0.0177 - favorite_loss:  0.0054 - comment_loss:  0.0027 - follow_loss:  0.0043 - val_read_comment_binary_crossentropy:  0.0888 - val_like_binary_crossentropy:  0.0881 - val_click_avatar_binary_crossentropy:  0.0350 - val_forward_binary_crossentropy:  0.0182 - val_favorite_binary_crossentropy:  0.0063 - val_comment_binary_crossentropy:  0.0027 - val_follow_binary_crossentropy:  0.0048 - val_read_comment_auc:  0.9379 - val_like_auc:  0.8652 - val_click_avatar_auc:  0.8841 - val_forward_auc:  0.9054 - val_favorite_auc:  0.9462 - val_comment_auc:  0.9111 - val_follow_auc:  0.9132 - val_read_comment_uauc:  0.6730 - val_like_uauc:  0.6702 - val_click_avatar_uauc:  0.7628 - val_forward_uauc:  0.7508 - val_favorite_uauc:  0.7749 - val_comment_uauc:  0.6537 - val_follow_uauc:  0.7606 - val_UAUC:  0.70523\n"
     ]
    }
   ],
   "source": [
    "params =  {'dropout': 0.0, 'l2_reg_dnn': 0.001, 'l2_reg_embedding': 0.01}\n",
    "\n",
    "print('drouput: ', params['dropout'])\n",
    "\n",
    "np.random.seed(2345)\n",
    "import random\n",
    "random.seed(2345)\n",
    "# args['hidden_units']\n",
    "moe = MOE(dnn_hidden_units=(784,512,128), linear_feature_columns=linear_feature_columns,\n",
    "          dnn_feature_columns=dnn_feature_columns, task='binary', dnn_dropout=params['dropout'],\n",
    "          l2_reg_embedding=params['l2_reg_embedding'], l2_reg_dnn=params['l2_reg_dnn'],\n",
    "          device=device, seed=1233, num_tasks=args['num_tasks'],\n",
    "          pretrained_user_emb_weight=[user_emb_weight],\n",
    "          pretrained_author_emb_weight=[author_emb_weight],\n",
    "          pretrained_feed_emb_weight=[feed_emb_weight, official_feed_weight],\n",
    "          )\n",
    "\n",
    "moe.compile(optimizer=args['optimizer'], learning_rate=0.085, loss=\"binary_crossentropy\", \n",
    "              metrics=[\"binary_crossentropy\",'auc','uauc']) #args['learning_rate']\n",
    "\n",
    "metric = moe.fit(train_loader, validation_data=[val_loader, semi_val_y],\n",
    "                   epochs=2, val_userid_list=val_userid_lst,\n",
    "                   lr_scheduler=args['lr_scheduler'], scheduler_epochs=args['scheduler_epochs'],\n",
    "                   scheduler_method=args['scheduler_method'], num_warm_epochs=args['num_warm_epochs'],\n",
    "                   reduction=args['reduction'],\n",
    "                   task_dict=args['task_dict'], task_weight=args['task_weight'],verbose=1,\n",
    "                   early_stop_uauc=0.55)"
   ]
  },
  {
   "cell_type": "code",
   "execution_count": null,
   "id": "cbae067c",
   "metadata": {},
   "outputs": [],
   "source": []
  },
  {
   "cell_type": "code",
   "execution_count": 17,
   "id": "03af86a5",
   "metadata": {},
   "outputs": [],
   "source": [
    "_moe = MOE(dnn_hidden_units=args['hidden_units'], linear_feature_columns=linear_feature_columns,\n",
    "          dnn_feature_columns=dnn_feature_columns, task='binary', dnn_dropout=0.,\n",
    "          l2_reg_embedding=0., l2_reg_dnn=0.,\n",
    "          l2_reg_linear=0., device=device, seed=1233, num_tasks=args['num_tasks'],\n",
    "          pretrained_user_emb_weight=None,\n",
    "          pretrained_author_emb_weight=None,\n",
    "          pretrained_feed_emb_weight=None,\n",
    "          )\n",
    "\n",
    "# 用于线上预测的训练集\n",
    "online_train_X = {}\n",
    "for col in semi_train_X:\n",
    "    online_train_X[col] = np.concatenate((semi_train_X[col], semi_val_X[col]), axis=0)\n",
    "online_train_y = np.concatenate((semi_train_y, semi_val_y), axis=0)\n",
    "\n",
    "online_train_loader = preprocess.get_dataloader(online_train_X, _moe, y=online_train_y, \n",
    "                                              batch_size=args['batch_size'],  \n",
    "                                              num_workers=7)"
   ]
  },
  {
   "cell_type": "code",
   "execution_count": null,
   "id": "672f18a3",
   "metadata": {},
   "outputs": [
    {
     "name": "stderr",
     "output_type": "stream",
     "text": [
      "08/05/2021 23:49:33 - INFO - model.moe_best -   Train on 72000000 samples, validate on 0 samples, 1800 steps per epoch\n",
      "254it [03:35,  1.19it/s]"
     ]
    }
   ],
   "source": [
    "np.random.seed(2345)\n",
    "import random\n",
    "random.seed(2345)\n",
    "\n",
    "params =  {'dropout': 0.0, 'l2_reg_dnn': 0.001, 'l2_reg_embedding': 0.01}\n",
    "params['dropout'] = 0.15\n",
    "\n",
    "# args['hidden_units']\n",
    "moe = MOE(dnn_hidden_units=(784,512,128), linear_feature_columns=linear_feature_columns,\n",
    "          dnn_feature_columns=dnn_feature_columns, task='binary', dnn_dropout=params['dropout'],\n",
    "          l2_reg_embedding=params['l2_reg_embedding'], l2_reg_dnn=params['l2_reg_dnn'],\n",
    "          device=device, seed=1233, num_tasks=args['num_tasks'],\n",
    "          pretrained_user_emb_weight=[user_emb_weight],\n",
    "          pretrained_author_emb_weight=[author_emb_weight],\n",
    "          pretrained_feed_emb_weight=[feed_emb_weight,official_feed_weight],\n",
    "          )\n",
    "\n",
    "# args['learning_rate']\n",
    "moe.compile(optimizer=args['optimizer'], learning_rate=0.08, loss=\"binary_crossentropy\", \n",
    "              metrics=[\"binary_crossentropy\",'auc','uauc'])\n",
    "\n",
    "metric_ = moe.fit(online_train_loader, validation_data=None,\n",
    "                   epochs=2, val_userid_list=None,\n",
    "                   lr_scheduler=args['lr_scheduler'], scheduler_epochs=args['scheduler_epochs'],\n",
    "                   scheduler_method=args['scheduler_method'], num_warm_epochs=args['num_warm_epochs'],\n",
    "                   reduction=args['reduction'], \n",
    "                   task_dict=args['task_dict'], task_weight=args['task_weight'],verbose=1,\n",
    "                   early_stop_uauc=0.55)"
   ]
  },
  {
   "cell_type": "code",
   "execution_count": null,
   "id": "ad5f7e53",
   "metadata": {},
   "outputs": [],
   "source": [
    "# 测试集\n",
    "semi_test_X = pickle.load(open(DATA_PATH+'/semi_test_x.pkl','rb'))\n",
    "semi_test_X = {f.name:semi_test_X[f.name] for f in dnn_feature_columns}\n",
    "\n",
    "online_test_loader = preprocess.get_dataloader(semi_test_X, moe, y=None,\n",
    "                                              batch_size=args['batch_size'],\n",
    "                                              num_workers=7)"
   ]
  },
  {
   "cell_type": "code",
   "execution_count": null,
   "id": "dcc80cce",
   "metadata": {},
   "outputs": [],
   "source": [
    "pred_arr = moe.predict(online_test_loader)"
   ]
  },
  {
   "cell_type": "code",
   "execution_count": null,
   "id": "9d4587a0",
   "metadata": {},
   "outputs": [],
   "source": [
    "test_sub = pd.read_csv('/home/tione/notebook/wbdc2021/data/wedata/wechat_algo_data2/test_a.csv',\n",
    "                       header=0)\n",
    "df_res = pd.DataFrame(pred_arr)\n",
    "df_res.columns = [\"read_comment\",\"like\",\"click_avatar\",\"forward\",'favorite','comment','follow']\n",
    "\n",
    "test_sub = pd.concat([test_sub, df_res], axis=1)\n",
    "test_sub.loc[test_sub.device==1, 'read_comment'] = 0\n",
    "\n",
    "test_sub[['userid','feedid',\"read_comment\",\"like\",\"click_avatar\",\"forward\",'favorite','comment','follow']]\\\n",
    "    .to_csv('results/semi.emb128.w2v64.lr0.08.dropout0.15.s0.7052.csv', header=True, index=False)"
   ]
  },
  {
   "cell_type": "code",
   "execution_count": null,
   "id": "fc925682",
   "metadata": {},
   "outputs": [],
   "source": [
    "# 待验证 lr0.071的和lr0.08 dropout0.15的"
   ]
  },
  {
   "cell_type": "code",
   "execution_count": 11,
   "id": "516f9402",
   "metadata": {},
   "outputs": [
    {
     "data": {
      "text/plain": [
       "123"
      ]
     },
     "execution_count": 11,
     "metadata": {},
     "output_type": "execute_result"
    }
   ],
   "source": [
    "123"
   ]
  },
  {
   "cell_type": "code",
   "execution_count": 12,
   "id": "148d3f04",
   "metadata": {},
   "outputs": [
    {
     "data": {
      "text/plain": [
       "123"
      ]
     },
     "execution_count": 12,
     "metadata": {},
     "output_type": "execute_result"
    }
   ],
   "source": [
    "123"
   ]
  },
  {
   "cell_type": "code",
   "execution_count": 15,
   "id": "70b84ed3",
   "metadata": {},
   "outputs": [
    {
     "data": {
      "text/plain": [
       "123"
      ]
     },
     "execution_count": 15,
     "metadata": {},
     "output_type": "execute_result"
    }
   ],
   "source": [
    "123"
   ]
  },
  {
   "cell_type": "code",
   "execution_count": 31,
   "id": "1e0cf73f",
   "metadata": {},
   "outputs": [],
   "source": [
    "import datetime\n",
    "import time\n",
    "\n",
    "s1 = time.time()\n"
   ]
  },
  {
   "cell_type": "code",
   "execution_count": 32,
   "id": "e162b5d4",
   "metadata": {},
   "outputs": [
    {
     "data": {
      "text/plain": [
       "9.935476779937744"
      ]
     },
     "execution_count": 32,
     "metadata": {},
     "output_type": "execute_result"
    }
   ],
   "source": [
    "s2 = time.time()\n",
    "s2-s1"
   ]
  },
  {
   "cell_type": "code",
   "execution_count": null,
   "id": "7d8e2268",
   "metadata": {},
   "outputs": [],
   "source": []
  }
 ],
 "metadata": {
  "kernelspec": {
   "display_name": "conda_wbdc2021_demo",
   "language": "python",
   "name": "conda_wbdc2021_demo"
  },
  "language_info": {
   "codemirror_mode": {
    "name": "ipython",
    "version": 3
   },
   "file_extension": ".py",
   "mimetype": "text/x-python",
   "name": "python",
   "nbconvert_exporter": "python",
   "pygments_lexer": "ipython3",
   "version": "3.6.5"
  }
 },
 "nbformat": 4,
 "nbformat_minor": 5
}
