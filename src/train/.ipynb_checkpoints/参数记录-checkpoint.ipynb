{
 "cells": [
  {
   "cell_type": "code",
   "execution_count": null,
   "id": "c1bc3a52",
   "metadata": {},
   "outputs": [],
   "source": [
    "# 相关性较强的几个任务, dnn最后一层的输出可以和相关任务输入合并输入最后一层\n",
    "# [read_comment, like, click_avatar, forward, favorite, comment, follow]\n",
    "# read_comment & comment / comment = 0.5585950692333671 => comment 可以作为 read_comment 的输入\n",
    "# like & comment / comment = 0.34886862546437014        => comment 可以作为like的输入\n",
    "# click_avatar & follow / follow = 0.9833238582527951   => follow可以作为 click_avatar的输入\n",
    "dnn_outputs[0] = torch.cat([dnn_outputs[0], dnn_outputs[5]], dim=1)\n",
    "dnn_outputs[1] = torch.cat([dnn_outputs[1], dnn_outputs[5]], dim=1)\n",
    "dnn_outputs[2] = torch.cat([dnn_outputs[2], dnn_outputs[6]], dim=1)\n",
    "\n",
    "dict_keys(['userid', 'feedid', 'authorid', 'bgm_song_id', 'bgm_singer_id', 'videoplayseconds_bin', \n",
    "           'bgm_na', 'feed_machine_tag_tfidf_cls_32', 'feed_machine_kw_tfidf_cls_17', \n",
    "           'author_machine_tag_tfidf_cls_21', 'author_machine_kw_tfidf_cls_18', \n",
    "           'videoplayseconds', 'tag_manu_machine_corr'])\n",
    "\n",
    "params =  {'dropout': 0.0, 'l2_reg_dnn': 0.001, 'l2_reg_embedding': 0.01}\n",
    "\n",
    "\n",
    "(512,256,128) batch_size=40000, lr=0.05, 线下0.70000, 线上0.7034\n",
    "\n",
    "(784,512,128) batch_size=40000, lr=0.05, 线下0.70052, 线上0.70366\n",
    "\n",
    "(784,512,128) batch_size=40000, lr=0.075, 线下0.70113, 线上0.704273\n",
    "\n",
    "(784,512,128) batch_size=40000, lr=0.1, 线下0.70169, 线上 0.704228\n",
    "\n",
    "(784,512,128) batch_size=40000, lr=0.075, 线下0.70486, 线上 0.70929\n",
    "\n",
    "(784,512,128) batch_size=40000, lr=0.08, 线下0.70533, 线上  0.708902\n",
    "\n",
    "\n",
    "# batch_size=10000, embdim=128, w2v=64, lr=0.05    0.70525, 线上 0.707331\n",
    "# batch_size=10000, embdim=128, w2v=64, lr=0.03    0.70547, 线上 0.708028"
   ]
  }
 ],
 "metadata": {
  "kernelspec": {
   "display_name": "conda_wbdc2021_demo",
   "language": "python",
   "name": "conda_wbdc2021_demo"
  },
  "language_info": {
   "codemirror_mode": {
    "name": "ipython",
    "version": 3
   },
   "file_extension": ".py",
   "mimetype": "text/x-python",
   "name": "python",
   "nbconvert_exporter": "python",
   "pygments_lexer": "ipython3",
   "version": "3.6.5"
  }
 },
 "nbformat": 4,
 "nbformat_minor": 5
}
