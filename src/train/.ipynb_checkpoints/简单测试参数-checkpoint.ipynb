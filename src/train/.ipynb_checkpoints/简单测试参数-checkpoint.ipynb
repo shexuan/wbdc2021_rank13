{
 "cells": [
  {
   "cell_type": "code",
   "execution_count": 1,
   "id": "a6ff1e40",
   "metadata": {},
   "outputs": [],
   "source": [
    "import pickle\n",
    "import os\n",
    "import pandas as pd"
   ]
  },
  {
   "cell_type": "code",
   "execution_count": 2,
   "id": "3398d2c3",
   "metadata": {},
   "outputs": [
    {
     "name": "stdout",
     "output_type": "stream",
     "text": [
      "feed_author_text_features_fillna_by_author_clusters.pkl\n",
      "feed_author_text_features_fillna_by_author_rm0.pkl\n",
      "feed_author_text_features.pkl\n",
      "feed_tag_kw_padded_text.pkl\n"
     ]
    }
   ],
   "source": [
    "!ls ../my_data/feedid_text_features/"
   ]
  },
  {
   "cell_type": "code",
   "execution_count": 6,
   "id": "6a9c6c76",
   "metadata": {},
   "outputs": [
    {
     "data": {
      "text/html": [
       "<div>\n",
       "<style scoped>\n",
       "    .dataframe tbody tr th:only-of-type {\n",
       "        vertical-align: middle;\n",
       "    }\n",
       "\n",
       "    .dataframe tbody tr th {\n",
       "        vertical-align: top;\n",
       "    }\n",
       "\n",
       "    .dataframe thead th {\n",
       "        text-align: right;\n",
       "    }\n",
       "</style>\n",
       "<table border=\"1\" class=\"dataframe\">\n",
       "  <thead>\n",
       "    <tr style=\"text-align: right;\">\n",
       "      <th></th>\n",
       "      <th>feedid</th>\n",
       "      <th>authorid</th>\n",
       "      <th>bgm_song_id</th>\n",
       "      <th>bgm_singer_id</th>\n",
       "      <th>videoplayseconds_bin</th>\n",
       "      <th>bgm_na</th>\n",
       "      <th>videoplayseconds</th>\n",
       "      <th>tag_manu_machine_corr</th>\n",
       "      <th>feed_machine_tag_tfidf_cls_32</th>\n",
       "      <th>feed_machine_kw_tfidf_cls_17</th>\n",
       "      <th>author_machine_tag_tfidf_cls_21</th>\n",
       "      <th>author_machine_kw_tfidf_cls_18</th>\n",
       "    </tr>\n",
       "  </thead>\n",
       "  <tbody>\n",
       "    <tr>\n",
       "      <th>0</th>\n",
       "      <td>43549</td>\n",
       "      <td>6165</td>\n",
       "      <td>19356</td>\n",
       "      <td>11703</td>\n",
       "      <td>2</td>\n",
       "      <td>0</td>\n",
       "      <td>0.259033</td>\n",
       "      <td>0.5</td>\n",
       "      <td>10</td>\n",
       "      <td>7</td>\n",
       "      <td>11</td>\n",
       "      <td>15</td>\n",
       "    </tr>\n",
       "    <tr>\n",
       "      <th>1</th>\n",
       "      <td>77432</td>\n",
       "      <td>9386</td>\n",
       "      <td>-9386</td>\n",
       "      <td>-9386</td>\n",
       "      <td>2</td>\n",
       "      <td>1</td>\n",
       "      <td>0.304199</td>\n",
       "      <td>0.5</td>\n",
       "      <td>18</td>\n",
       "      <td>10</td>\n",
       "      <td>1</td>\n",
       "      <td>17</td>\n",
       "    </tr>\n",
       "  </tbody>\n",
       "</table>\n",
       "</div>"
      ],
      "text/plain": [
       "   feedid  authorid  bgm_song_id  bgm_singer_id  videoplayseconds_bin  bgm_na  \\\n",
       "0   43549      6165        19356          11703                     2       0   \n",
       "1   77432      9386        -9386          -9386                     2       1   \n",
       "\n",
       "   videoplayseconds  tag_manu_machine_corr  feed_machine_tag_tfidf_cls_32  \\\n",
       "0          0.259033                    0.5                             10   \n",
       "1          0.304199                    0.5                             18   \n",
       "\n",
       "   feed_machine_kw_tfidf_cls_17  author_machine_tag_tfidf_cls_21  \\\n",
       "0                             7                               11   \n",
       "1                            10                                1   \n",
       "\n",
       "   author_machine_kw_tfidf_cls_18  \n",
       "0                              15  \n",
       "1                              17  "
      ]
     },
     "execution_count": 6,
     "metadata": {},
     "output_type": "execute_result"
    }
   ],
   "source": [
    "FEED_FEATURES = ['feedid','authorid','bgm_song_id','bgm_singer_id','videoplayseconds_bin','bgm_na',\n",
    "                 'videoplayseconds','tag_manu_machine_corr']+\\\n",
    "                ['feed_machine_tag_tfidf_cls_32','feed_machine_kw_tfidf_cls_17',\n",
    "                 'author_machine_tag_tfidf_cls_21','author_machine_kw_tfidf_cls_18']\n",
    "\n",
    "feed = pd.read_pickle('../my_data/feedid_text_features/feed_author_text_features_fillna_by_author_clusters.pkl')\n",
    "feed = feed[FEED_FEATURES]\n",
    "feed.head(2)\n"
   ]
  },
  {
   "cell_type": "code",
   "execution_count": 12,
   "id": "dc0240e5",
   "metadata": {},
   "outputs": [
    {
     "data": {
      "text/html": [
       "<div>\n",
       "<style scoped>\n",
       "    .dataframe tbody tr th:only-of-type {\n",
       "        vertical-align: middle;\n",
       "    }\n",
       "\n",
       "    .dataframe tbody tr th {\n",
       "        vertical-align: top;\n",
       "    }\n",
       "\n",
       "    .dataframe thead th {\n",
       "        text-align: right;\n",
       "    }\n",
       "</style>\n",
       "<table border=\"1\" class=\"dataframe\">\n",
       "  <thead>\n",
       "    <tr style=\"text-align: right;\">\n",
       "      <th></th>\n",
       "      <th>feedid</th>\n",
       "      <th>authorid</th>\n",
       "      <th>bgm_song_id</th>\n",
       "      <th>bgm_singer_id</th>\n",
       "      <th>videoplayseconds_bin</th>\n",
       "      <th>bgm_na</th>\n",
       "      <th>videoplayseconds</th>\n",
       "      <th>tag_manu_machine_corr</th>\n",
       "      <th>feed_machine_tag_tfidf_cls_32</th>\n",
       "      <th>feed_machine_kw_tfidf_cls_17</th>\n",
       "      <th>author_machine_tag_tfidf_cls_21</th>\n",
       "      <th>author_machine_kw_tfidf_cls_18</th>\n",
       "    </tr>\n",
       "  </thead>\n",
       "  <tbody>\n",
       "  </tbody>\n",
       "</table>\n",
       "</div>"
      ],
      "text/plain": [
       "Empty DataFrame\n",
       "Columns: [feedid, authorid, bgm_song_id, bgm_singer_id, videoplayseconds_bin, bgm_na, videoplayseconds, tag_manu_machine_corr, feed_machine_tag_tfidf_cls_32, feed_machine_kw_tfidf_cls_17, author_machine_tag_tfidf_cls_21, author_machine_kw_tfidf_cls_18]\n",
       "Index: []"
      ]
     },
     "execution_count": 12,
     "metadata": {},
     "output_type": "execute_result"
    }
   ],
   "source": [
    "feed[feed['feed_machine_kw_tfidf_cls_17']==-1]"
   ]
  },
  {
   "cell_type": "code",
   "execution_count": 11,
   "id": "d79cde6b",
   "metadata": {},
   "outputs": [
    {
     "data": {
      "text/plain": [
       "feedid                               int32\n",
       "authorid                             int16\n",
       "bgm_song_id                          int16\n",
       "bgm_singer_id                        int16\n",
       "videoplayseconds_bin                  int8\n",
       "bgm_na                                int8\n",
       "videoplayseconds                   float16\n",
       "tag_manu_machine_corr              float16\n",
       "feed_machine_tag_tfidf_cls_32         int8\n",
       "feed_machine_kw_tfidf_cls_17          int8\n",
       "author_machine_tag_tfidf_cls_21       int8\n",
       "author_machine_kw_tfidf_cls_18        int8\n",
       "dtype: object"
      ]
     },
     "execution_count": 11,
     "metadata": {},
     "output_type": "execute_result"
    }
   ],
   "source": [
    "feed.dtypes"
   ]
  },
  {
   "cell_type": "code",
   "execution_count": 16,
   "id": "2926e6fa",
   "metadata": {},
   "outputs": [
    {
     "data": {
      "text/plain": [
       "{0, 1, 2, 3, 4, 5, 6, 7, 8, 9, 10, 11, 12, 13, 14, 15, 16, 18}"
      ]
     },
     "execution_count": 16,
     "metadata": {},
     "output_type": "execute_result"
    }
   ],
   "source": [
    "set(feed['feed_machine_kw_tfidf_cls_17'])"
   ]
  },
  {
   "cell_type": "code",
   "execution_count": null,
   "id": "526e6466",
   "metadata": {},
   "outputs": [],
   "source": []
  }
 ],
 "metadata": {
  "kernelspec": {
   "display_name": "conda_wbdc2021_demo",
   "language": "python",
   "name": "conda_wbdc2021_demo"
  },
  "language_info": {
   "codemirror_mode": {
    "name": "ipython",
    "version": 3
   },
   "file_extension": ".py",
   "mimetype": "text/x-python",
   "name": "python",
   "nbconvert_exporter": "python",
   "pygments_lexer": "ipython3",
   "version": "3.6.5"
  }
 },
 "nbformat": 4,
 "nbformat_minor": 5
}
