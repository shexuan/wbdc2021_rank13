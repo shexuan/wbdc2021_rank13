{
 "cells": [
  {
   "cell_type": "code",
   "execution_count": 1,
   "id": "c992d866",
   "metadata": {},
   "outputs": [],
   "source": [
    "import os, sys, gc, pickle\n",
    "sys.path.append('../')\n",
    "from model.moe import MOE\n",
    "import preprocess\n",
    "\n",
    "import numpy as np\n",
    "import pandas as pd\n",
    "import torch\n",
    "from sklearn.preprocessing import LabelEncoder, MinMaxScaler\n",
    "from transformers import AdamW, get_linear_schedule_with_warmup, get_cosine_schedule_with_warmup\n",
    "from tqdm import tqdm\n",
    "from deepctr_torch.inputs import SparseFeat, DenseFeat, get_feature_names\n",
    "\n",
    "import logging\n",
    "logger = logging.getLogger(__name__)"
   ]
  },
  {
   "cell_type": "code",
   "execution_count": 4,
   "id": "99c36880",
   "metadata": {},
   "outputs": [],
   "source": [
    "import importlib\n",
    "importlib.reload(preprocess)\n",
    "import preprocess"
   ]
  },
  {
   "cell_type": "markdown",
   "id": "af6284ba",
   "metadata": {},
   "source": [
    "### 参数"
   ]
  },
  {
   "cell_type": "code",
   "execution_count": 2,
   "id": "008573e4",
   "metadata": {},
   "outputs": [],
   "source": [
    "CLS_COLS = ['feed_manu_tag_tfidf_cls_32', 'feed_machine_tag_tfidf_cls_32', 'feed_manu_kw_tfidf_cls_22', \n",
    "            'feed_machine_kw_tfidf_cls_17', 'feed_description_tfidf_cls_18', 'author_manu_tag_tfidf_cls_19', \n",
    "            'author_machine_tag_tfidf_cls_21', 'author_manu_kw_tfidf_cls_18', 'author_machine_kw_tfidf_cls_18', \n",
    "            'author_description_tfidf_cls_18']\n",
    "\n",
    "TOPIC_COLS = ['feed_manu_tag_topic_class', 'feed_machine_tag_topic_class', 'feed_manu_kw_topic_class', \n",
    "              'feed_machine_kw_topic_class', 'feed_description_topic_class', 'author_description_topic_class', \n",
    "              'author_manu_kw_topic_class', 'author_machine_kw_topic_class', 'author_manu_tag_topic_class', \n",
    "              'author_machine_tag_topic_class']\n",
    "\n",
    "SPARSE_COLS = ['userid','feedid','authorid','bgm_song_id','bgm_singer_id','videoplayseconds_bin',\n",
    "               'device','bgm_na']+ CLS_COLS + TOPIC_COLS\n",
    "DENSE_COLS = ['videoplayseconds','tag_manu_machine_corr']\n",
    "ACTIONS = [\"read_comment\",\"like\",\"click_avatar\",\"forward\",'favorite','comment','follow']\n",
    "\n",
    "USED_COLUMNS = SPARSE_COLS + DENSE_COLS + ACTIONS\n",
    "\n",
    "DATA_PATH_pri = '../../wbdc2021/data/wedata/wechat_algo_data1/'\n",
    "DATA_PATH_semi = '../../wbdc2021/data/wedata/wechat_algo_data2/'\n",
    "DATA_PATH = '../my_data/'\n",
    "OUTPATH = '../my_data/data_base/'\n",
    "\n",
    "user_act_pri_path = DATA_PATH_pri + '/user_action.csv'\n",
    "user_act_semi_path = DATA_PATH_semi + '/user_action.csv'\n",
    "test_semi_path = DATA_PATH_semi + '/test_a.csv'\n",
    "feed_path = DATA_PATH + '/feedid_text_features/feed_author_text_features_fillna_by_author_clusters.pkl'"
   ]
  },
  {
   "cell_type": "code",
   "execution_count": 3,
   "id": "3dc5d964",
   "metadata": {},
   "outputs": [],
   "source": [
    "def process_pipe(feed_path, user_act_path, used_columns, used_sparse_cols, used_dense_cols, \n",
    "                 emb_dim=16, is_training=True, test_data=False):\n",
    "    data = preprocess.preprocess(feed_path, user_act_path)\n",
    "    data_ds = preprocess.down_sample(data, used_columns, sample_method=None, \n",
    "                          neg2pos_ratio=300, user_samp='random', \n",
    "                          by_date=None, is_training=is_training)\n",
    "    if(list(data_ds.head(2)['date_'])[0]==15): # test data \n",
    "        X_dic, y_arr, linear_feats, dnn_feats, lbe_dict = preprocess.process_features(\n",
    "                         data_ds, used_sparse_cols, used_dense_cols, \n",
    "                         actions=ACTIONS, emb_dim=emb_dim, use_tag_text=None, use_kw_text=None, \n",
    "                         feed_history=None, author_history=None,  use_din=False, \n",
    "                         max_seq_length=128, behavior_feature_list=['feedid','authorid'],\n",
    "                         )\n",
    "        return [(X_dic, y_arr, linear_feats, dnn_feats, lbe_dict)]\n",
    "    else: # train data\n",
    "        train_data = data_ds.query('date_<14')\n",
    "        val_data = data_ds.query('date_==14')\n",
    "        X_dic_train, y_arr_train, linear_feats, dnn_feats, lbe_dict = preprocess.process_features(\n",
    "                         train_data, used_sparse_cols, used_dense_cols, \n",
    "                         actions=ACTIONS, emb_dim=emb_dim, use_tag_text=None, use_kw_text=None, \n",
    "                         feed_history=None, author_history=None,  use_din=False, \n",
    "                         max_seq_length=128, behavior_feature_list=['feedid','authorid'],\n",
    "                         )\n",
    "        X_dic_val, y_arr_val, linear_feats, dnn_feats, lbe_dict = preprocess.process_features(\n",
    "                         val_data, used_sparse_cols, used_dense_cols, \n",
    "                         actions=ACTIONS, emb_dim=emb_dim, use_tag_text=None, use_kw_text=None, \n",
    "                         feed_history=None, author_history=None,  use_din=False, \n",
    "                         max_seq_length=128, behavior_feature_list=['feedid','authorid'],\n",
    "                         )\n",
    "        return [(X_dic_train, y_arr_train, linear_feats, dnn_feats, lbe_dict),\n",
    "                (X_dic_val, y_arr_val, linear_feats, dnn_feats, lbe_dict)]"
   ]
  },
  {
   "cell_type": "code",
   "execution_count": 7,
   "id": "ad2d9116",
   "metadata": {},
   "outputs": [
    {
     "name": "stdout",
     "output_type": "stream",
     "text": [
      "Prepeocessing >>> >>>\n",
      "feed number: 106444\n",
      "user actions number:  4252097\n",
      "total data size:  4252097\n",
      "Preprocessing Done <<< <<< <<<\n",
      "~> Memory usage of dataframe is 1216.535 MG\n",
      "~> Memory usage after optimization is: 231.142 MG\n",
      "~> Decreased by 81.0%\n",
      "------------------------------------------------------------\n"
     ]
    }
   ],
   "source": [
    "semi_test_train = process_pipe(\n",
    "    feed_path, test_semi_path, USED_COLUMNS, SPARSE_COLS, DENSE_COLS)"
   ]
  },
  {
   "cell_type": "code",
   "execution_count": 8,
   "id": "bf59bf1a",
   "metadata": {},
   "outputs": [],
   "source": [
    "pickle.dump(semi_test_train[0][0], open(f'{OUTPATH}/semi_test_x.pkl', 'wb'))\n",
    "pickle.dump(semi_test_train[0][2], open(f'{OUTPATH}/linear_feature.pkl', 'wb'))\n",
    "pickle.dump(semi_test_train[0][3], open(f'{OUTPATH}/dnn_feature.pkl', 'wb'))"
   ]
  },
  {
   "cell_type": "code",
   "execution_count": null,
   "id": "340b57fb",
   "metadata": {},
   "outputs": [
    {
     "name": "stdout",
     "output_type": "stream",
     "text": [
      "Prepeocessing >>> >>>\n",
      "feed number: 106444\n",
      "user actions number:  73175511\n",
      "~> Memory usage of dataframe is 6141.133 MG\n",
      "~> Memory usage after optimization is: 1186.355 MG\n",
      "~> Decreased by 80.7%\n",
      "------------------------------------------------------------\n",
      "raw user_act number:  73175511\n",
      "user_act_unique number:  71978260\n",
      "user_act_sum number:  71978260\n",
      "dropped duplicates user_act numbers:  71978260\n",
      "total data size:  71978260\n",
      "Preprocessing Done <<< <<< <<<\n"
     ]
    },
    {
     "name": "stderr",
     "output_type": "stream",
     "text": [
      "/home/tione/notebook/src/train/preprocess.py:338: SettingWithCopyWarning: \n",
      "A value is trying to be set on a copy of a slice from a DataFrame.\n",
      "Try using .loc[row_indexer,col_indexer] = value instead\n",
      "\n",
      "See the caveats in the documentation: https://pandas.pydata.org/pandas-docs/stable/user_guide/indexing.html#returning-a-view-versus-a-copy\n",
      "  df[feat] = lbe.transform(df[feat].astype(str))+1\n"
     ]
    }
   ],
   "source": [
    "semi_train, semi_val = process_pipe(\n",
    "    feed_path, user_act_semi_path, USED_COLUMNS, SPARSE_COLS, DENSE_COLS)"
   ]
  },
  {
   "cell_type": "code",
   "execution_count": null,
   "id": "166eecb7",
   "metadata": {},
   "outputs": [],
   "source": [
    "pickle.dump(semi_train[0], open(f'{OUTPATH}/semi_train_x.pkl', 'wb'))\n",
    "pickle.dump(semi_train[1], open(f'{OUTPATH}/semi_train_y.pkl', 'wb'))\n",
    "\n",
    "pickle.dump(semi_val[0], open(f'{OUTPATH}/semi_val_x.pkl', 'wb'))\n",
    "pickle.dump(semi_val[1], open(f'{OUTPATH}/semi_val_y.pkl', 'wb'))"
   ]
  },
  {
   "cell_type": "code",
   "execution_count": 13,
   "id": "28d88442",
   "metadata": {},
   "outputs": [
    {
     "data": {
      "text/plain": [
       "123"
      ]
     },
     "execution_count": 13,
     "metadata": {},
     "output_type": "execute_result"
    }
   ],
   "source": [
    "123"
   ]
  },
  {
   "cell_type": "code",
   "execution_count": null,
   "id": "e94fefaa",
   "metadata": {},
   "outputs": [],
   "source": [
    "pri_train, pri_val = process_pipe(\n",
    "    feed_path, user_act_pri_path, USED_COLUMNS, SPARSE_COLS, DENSE_COLS)"
   ]
  },
  {
   "cell_type": "code",
   "execution_count": null,
   "id": "275b8475",
   "metadata": {},
   "outputs": [],
   "source": [
    "pickle.dump(pri_train[0], open(f'{OUTPATH}/pri_train_x.pkl', 'wb'))\n",
    "pickle.dump(pri_train[1], open(f'{OUTPATH}/pri_train_y.pkl', 'wb'))\n",
    "\n",
    "pickle.dump(pri_val[0], open(f'{OUTPATH}/pri_val_x.pkl', 'wb'))\n",
    "pickle.dump(pri_val[1], open(f'{OUTPATH}/pri_val_y.pkl', 'wb'))"
   ]
  },
  {
   "cell_type": "markdown",
   "id": "c4e6d67a",
   "metadata": {},
   "source": [
    "### 采样"
   ]
  },
  {
   "cell_type": "code",
   "execution_count": null,
   "id": "499d0726",
   "metadata": {},
   "outputs": [],
   "source": []
  },
  {
   "cell_type": "code",
   "execution_count": null,
   "id": "a0a990d4",
   "metadata": {},
   "outputs": [],
   "source": []
  },
  {
   "cell_type": "code",
   "execution_count": null,
   "id": "ea1f4ef1",
   "metadata": {},
   "outputs": [],
   "source": []
  },
  {
   "cell_type": "code",
   "execution_count": null,
   "id": "2dce6b24",
   "metadata": {},
   "outputs": [],
   "source": []
  },
  {
   "cell_type": "code",
   "execution_count": null,
   "id": "9e4dc6e3",
   "metadata": {},
   "outputs": [],
   "source": [
    "    "
   ]
  },
  {
   "cell_type": "code",
   "execution_count": null,
   "id": "6ded4980",
   "metadata": {},
   "outputs": [],
   "source": []
  },
  {
   "cell_type": "code",
   "execution_count": null,
   "id": "b4e09645",
   "metadata": {},
   "outputs": [],
   "source": []
  },
  {
   "cell_type": "code",
   "execution_count": null,
   "id": "e589963e",
   "metadata": {},
   "outputs": [],
   "source": []
  },
  {
   "cell_type": "code",
   "execution_count": null,
   "id": "e7a98094",
   "metadata": {},
   "outputs": [],
   "source": []
  },
  {
   "cell_type": "code",
   "execution_count": null,
   "id": "30bcc77c",
   "metadata": {},
   "outputs": [],
   "source": []
  }
 ],
 "metadata": {
  "kernelspec": {
   "display_name": "conda_wbdc2021_demo",
   "language": "python",
   "name": "conda_wbdc2021_demo"
  },
  "language_info": {
   "codemirror_mode": {
    "name": "ipython",
    "version": 3
   },
   "file_extension": ".py",
   "mimetype": "text/x-python",
   "name": "python",
   "nbconvert_exporter": "python",
   "pygments_lexer": "ipython3",
   "version": "3.6.5"
  }
 },
 "nbformat": 4,
 "nbformat_minor": 5
}
